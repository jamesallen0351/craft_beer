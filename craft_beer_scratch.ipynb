{
 "cells": [
  {
   "cell_type": "markdown",
   "id": "30c79dc5",
   "metadata": {},
   "source": [
    "# Craft Beer Data"
   ]
  },
  {
   "cell_type": "code",
   "execution_count": 1,
   "id": "e447d2b8",
   "metadata": {},
   "outputs": [],
   "source": [
    "# imports\n",
    "\n",
    "import numpy as np\n",
    "import pandas as pd\n",
    "import matplotlib.pyplot as plt\n",
    "import seaborn as sns\n",
    "from scipy import stats\n",
    "%matplotlib inline"
   ]
  },
  {
   "cell_type": "code",
   "execution_count": 2,
   "id": "3f712a6f",
   "metadata": {},
   "outputs": [],
   "source": [
    "# getting the beer data from a csv file\n",
    "df = pd.read_csv('beers.csv')"
   ]
  },
  {
   "cell_type": "code",
   "execution_count": 3,
   "id": "724ec8ad",
   "metadata": {},
   "outputs": [
    {
     "data": {
      "text/html": [
       "<div>\n",
       "<style scoped>\n",
       "    .dataframe tbody tr th:only-of-type {\n",
       "        vertical-align: middle;\n",
       "    }\n",
       "\n",
       "    .dataframe tbody tr th {\n",
       "        vertical-align: top;\n",
       "    }\n",
       "\n",
       "    .dataframe thead th {\n",
       "        text-align: right;\n",
       "    }\n",
       "</style>\n",
       "<table border=\"1\" class=\"dataframe\">\n",
       "  <thead>\n",
       "    <tr style=\"text-align: right;\">\n",
       "      <th></th>\n",
       "      <th>Unnamed: 0</th>\n",
       "      <th>abv</th>\n",
       "      <th>ibu</th>\n",
       "      <th>id</th>\n",
       "      <th>name</th>\n",
       "      <th>style</th>\n",
       "      <th>brewery_id</th>\n",
       "      <th>ounces</th>\n",
       "    </tr>\n",
       "  </thead>\n",
       "  <tbody>\n",
       "    <tr>\n",
       "      <th>0</th>\n",
       "      <td>0</td>\n",
       "      <td>0.050</td>\n",
       "      <td>NaN</td>\n",
       "      <td>1436</td>\n",
       "      <td>Pub Beer</td>\n",
       "      <td>American Pale Lager</td>\n",
       "      <td>408</td>\n",
       "      <td>12.0</td>\n",
       "    </tr>\n",
       "    <tr>\n",
       "      <th>1</th>\n",
       "      <td>1</td>\n",
       "      <td>0.066</td>\n",
       "      <td>NaN</td>\n",
       "      <td>2265</td>\n",
       "      <td>Devil's Cup</td>\n",
       "      <td>American Pale Ale (APA)</td>\n",
       "      <td>177</td>\n",
       "      <td>12.0</td>\n",
       "    </tr>\n",
       "    <tr>\n",
       "      <th>2</th>\n",
       "      <td>2</td>\n",
       "      <td>0.071</td>\n",
       "      <td>NaN</td>\n",
       "      <td>2264</td>\n",
       "      <td>Rise of the Phoenix</td>\n",
       "      <td>American IPA</td>\n",
       "      <td>177</td>\n",
       "      <td>12.0</td>\n",
       "    </tr>\n",
       "    <tr>\n",
       "      <th>3</th>\n",
       "      <td>3</td>\n",
       "      <td>0.090</td>\n",
       "      <td>NaN</td>\n",
       "      <td>2263</td>\n",
       "      <td>Sinister</td>\n",
       "      <td>American Double / Imperial IPA</td>\n",
       "      <td>177</td>\n",
       "      <td>12.0</td>\n",
       "    </tr>\n",
       "    <tr>\n",
       "      <th>4</th>\n",
       "      <td>4</td>\n",
       "      <td>0.075</td>\n",
       "      <td>NaN</td>\n",
       "      <td>2262</td>\n",
       "      <td>Sex and Candy</td>\n",
       "      <td>American IPA</td>\n",
       "      <td>177</td>\n",
       "      <td>12.0</td>\n",
       "    </tr>\n",
       "  </tbody>\n",
       "</table>\n",
       "</div>"
      ],
      "text/plain": [
       "   Unnamed: 0    abv  ibu    id                 name  \\\n",
       "0           0  0.050  NaN  1436             Pub Beer   \n",
       "1           1  0.066  NaN  2265          Devil's Cup   \n",
       "2           2  0.071  NaN  2264  Rise of the Phoenix   \n",
       "3           3  0.090  NaN  2263             Sinister   \n",
       "4           4  0.075  NaN  2262        Sex and Candy   \n",
       "\n",
       "                            style  brewery_id  ounces  \n",
       "0             American Pale Lager         408    12.0  \n",
       "1         American Pale Ale (APA)         177    12.0  \n",
       "2                    American IPA         177    12.0  \n",
       "3  American Double / Imperial IPA         177    12.0  \n",
       "4                    American IPA         177    12.0  "
      ]
     },
     "execution_count": 3,
     "metadata": {},
     "output_type": "execute_result"
    }
   ],
   "source": [
    "df.head() # check_yo_head"
   ]
  },
  {
   "cell_type": "code",
   "execution_count": 4,
   "id": "01d48512",
   "metadata": {},
   "outputs": [
    {
     "data": {
      "text/html": [
       "<div>\n",
       "<style scoped>\n",
       "    .dataframe tbody tr th:only-of-type {\n",
       "        vertical-align: middle;\n",
       "    }\n",
       "\n",
       "    .dataframe tbody tr th {\n",
       "        vertical-align: top;\n",
       "    }\n",
       "\n",
       "    .dataframe thead th {\n",
       "        text-align: right;\n",
       "    }\n",
       "</style>\n",
       "<table border=\"1\" class=\"dataframe\">\n",
       "  <thead>\n",
       "    <tr style=\"text-align: right;\">\n",
       "      <th></th>\n",
       "      <th>Unnamed: 0</th>\n",
       "      <th>abv</th>\n",
       "      <th>ibu</th>\n",
       "      <th>id</th>\n",
       "      <th>name</th>\n",
       "      <th>style</th>\n",
       "      <th>brewery_id</th>\n",
       "      <th>ounces</th>\n",
       "    </tr>\n",
       "  </thead>\n",
       "  <tbody>\n",
       "    <tr>\n",
       "      <th>2405</th>\n",
       "      <td>2405</td>\n",
       "      <td>0.067</td>\n",
       "      <td>45.0</td>\n",
       "      <td>928</td>\n",
       "      <td>Belgorado</td>\n",
       "      <td>Belgian IPA</td>\n",
       "      <td>424</td>\n",
       "      <td>12.0</td>\n",
       "    </tr>\n",
       "    <tr>\n",
       "      <th>2406</th>\n",
       "      <td>2406</td>\n",
       "      <td>0.052</td>\n",
       "      <td>NaN</td>\n",
       "      <td>807</td>\n",
       "      <td>Rail Yard Ale</td>\n",
       "      <td>American Amber / Red Ale</td>\n",
       "      <td>424</td>\n",
       "      <td>12.0</td>\n",
       "    </tr>\n",
       "    <tr>\n",
       "      <th>2407</th>\n",
       "      <td>2407</td>\n",
       "      <td>0.055</td>\n",
       "      <td>NaN</td>\n",
       "      <td>620</td>\n",
       "      <td>B3K Black Lager</td>\n",
       "      <td>Schwarzbier</td>\n",
       "      <td>424</td>\n",
       "      <td>12.0</td>\n",
       "    </tr>\n",
       "    <tr>\n",
       "      <th>2408</th>\n",
       "      <td>2408</td>\n",
       "      <td>0.055</td>\n",
       "      <td>40.0</td>\n",
       "      <td>145</td>\n",
       "      <td>Silverback Pale Ale</td>\n",
       "      <td>American Pale Ale (APA)</td>\n",
       "      <td>424</td>\n",
       "      <td>12.0</td>\n",
       "    </tr>\n",
       "    <tr>\n",
       "      <th>2409</th>\n",
       "      <td>2409</td>\n",
       "      <td>0.052</td>\n",
       "      <td>NaN</td>\n",
       "      <td>84</td>\n",
       "      <td>Rail Yard Ale (2009)</td>\n",
       "      <td>American Amber / Red Ale</td>\n",
       "      <td>424</td>\n",
       "      <td>12.0</td>\n",
       "    </tr>\n",
       "  </tbody>\n",
       "</table>\n",
       "</div>"
      ],
      "text/plain": [
       "      Unnamed: 0    abv   ibu   id                  name  \\\n",
       "2405        2405  0.067  45.0  928             Belgorado   \n",
       "2406        2406  0.052   NaN  807         Rail Yard Ale   \n",
       "2407        2407  0.055   NaN  620       B3K Black Lager   \n",
       "2408        2408  0.055  40.0  145   Silverback Pale Ale   \n",
       "2409        2409  0.052   NaN   84  Rail Yard Ale (2009)   \n",
       "\n",
       "                         style  brewery_id  ounces  \n",
       "2405               Belgian IPA         424    12.0  \n",
       "2406  American Amber / Red Ale         424    12.0  \n",
       "2407               Schwarzbier         424    12.0  \n",
       "2408   American Pale Ale (APA)         424    12.0  \n",
       "2409  American Amber / Red Ale         424    12.0  "
      ]
     },
     "execution_count": 4,
     "metadata": {},
     "output_type": "execute_result"
    }
   ],
   "source": [
    "# checking on the tail of the data\n",
    "df.tail()"
   ]
  },
  {
   "cell_type": "code",
   "execution_count": 5,
   "id": "8fefd757",
   "metadata": {},
   "outputs": [
    {
     "name": "stdout",
     "output_type": "stream",
     "text": [
      "<class 'pandas.core.frame.DataFrame'>\n",
      "RangeIndex: 2410 entries, 0 to 2409\n",
      "Data columns (total 8 columns):\n",
      " #   Column      Non-Null Count  Dtype  \n",
      "---  ------      --------------  -----  \n",
      " 0   Unnamed: 0  2410 non-null   int64  \n",
      " 1   abv         2348 non-null   float64\n",
      " 2   ibu         1405 non-null   float64\n",
      " 3   id          2410 non-null   int64  \n",
      " 4   name        2410 non-null   object \n",
      " 5   style       2405 non-null   object \n",
      " 6   brewery_id  2410 non-null   int64  \n",
      " 7   ounces      2410 non-null   float64\n",
      "dtypes: float64(3), int64(3), object(2)\n",
      "memory usage: 150.8+ KB\n"
     ]
    }
   ],
   "source": [
    "# taking a look at the data info\n",
    "df.info()"
   ]
  },
  {
   "cell_type": "code",
   "execution_count": 6,
   "id": "7e3513bc",
   "metadata": {},
   "outputs": [
    {
     "data": {
      "text/plain": [
       "(2410, 8)"
      ]
     },
     "execution_count": 6,
     "metadata": {},
     "output_type": "execute_result"
    }
   ],
   "source": [
    "# taking a look at the shape of the data\n",
    "df.shape"
   ]
  },
  {
   "cell_type": "markdown",
   "id": "6ff7c44c",
   "metadata": {},
   "source": [
    "Initial Takeaways:\n",
    "\n",
    "- So it looks like there are 8 columns \n",
    "\n",
    "- The unnamed column is a count of the data for both .csv files\n",
    "\n",
    "- Some of the ibu has data and some don't\n",
    "\n",
    "- I don't know what the id column is for"
   ]
  },
  {
   "cell_type": "code",
   "execution_count": 7,
   "id": "97b2ae85",
   "metadata": {},
   "outputs": [],
   "source": [
    "# prep\n",
    "\n",
    "# df.drop(columns = 'Unnamed: 0', )"
   ]
  },
  {
   "cell_type": "code",
   "execution_count": null,
   "id": "eae73415",
   "metadata": {},
   "outputs": [],
   "source": [
    "# reading the breweries csv file\n",
    "df_1 = pd.read_csv('breweries.csv')"
   ]
  },
  {
   "cell_type": "code",
   "execution_count": null,
   "id": "edd53820",
   "metadata": {},
   "outputs": [],
   "source": [
    "df_1.head() #check_yo_head"
   ]
  },
  {
   "cell_type": "code",
   "execution_count": null,
   "id": "19b5349e",
   "metadata": {},
   "outputs": [],
   "source": [
    "# using merge function by setting how='inner'\n",
    "df = pd.merge(df, df_1, \n",
    "                   on='Unnamed: 0', \n",
    "                   how='inner')"
   ]
  },
  {
   "cell_type": "code",
   "execution_count": null,
   "id": "3d204002",
   "metadata": {},
   "outputs": [],
   "source": [
    "df.head() #check_yo_head"
   ]
  },
  {
   "cell_type": "code",
   "execution_count": null,
   "id": "79ebb540",
   "metadata": {},
   "outputs": [],
   "source": [
    "# checking for nulls in the data\n",
    "df.isna().sum()"
   ]
  },
  {
   "cell_type": "code",
   "execution_count": null,
   "id": "0d6129c0",
   "metadata": {},
   "outputs": [],
   "source": [
    "# taking a look at the shape of the merged data\n",
    "df.shape"
   ]
  },
  {
   "cell_type": "code",
   "execution_count": null,
   "id": "8e4426b1",
   "metadata": {},
   "outputs": [],
   "source": [
    "# quick info on the merged data\n",
    "df.info()"
   ]
  },
  {
   "cell_type": "code",
   "execution_count": null,
   "id": "bf17133a",
   "metadata": {},
   "outputs": [],
   "source": [
    "# renaming columns for readability\n",
    "df = df.rename(columns = {\"style\": \"beer_style\", \"name_y\": \"brewery\", \"Unnamed: 0\": \"number\", \"name_x\": \"beer\"})"
   ]
  },
  {
   "cell_type": "code",
   "execution_count": null,
   "id": "c84e93e5",
   "metadata": {},
   "outputs": [],
   "source": [
    "df.head() #check_yo_head"
   ]
  },
  {
   "cell_type": "code",
   "execution_count": null,
   "id": "0b20f218",
   "metadata": {},
   "outputs": [],
   "source": [
    "# messing around and dropping a .plot() on the data\n",
    "df.plot()"
   ]
  },
  {
   "cell_type": "code",
   "execution_count": null,
   "id": "04cd9dda",
   "metadata": {},
   "outputs": [],
   "source": [
    "# taking a look at the count of the top beer styles\n",
    "df.beer_style.value_counts().head()"
   ]
  },
  {
   "cell_type": "code",
   "execution_count": null,
   "id": "7d08f41f",
   "metadata": {},
   "outputs": [],
   "source": [
    "# looking to see if the same brewery has multiple beers\n",
    "df.brewery.value_counts()"
   ]
  },
  {
   "cell_type": "code",
   "execution_count": null,
   "id": "23e01587",
   "metadata": {},
   "outputs": [],
   "source": [
    "# df.shape had 558 rows\n",
    "# seeing how many different breweries there are\n",
    "df.brewery.nunique()"
   ]
  },
  {
   "cell_type": "code",
   "execution_count": null,
   "id": "e560b7d3",
   "metadata": {},
   "outputs": [],
   "source": [
    "# seeing how many unique beers there are\n",
    "df.beer.nunique()"
   ]
  },
  {
   "cell_type": "code",
   "execution_count": null,
   "id": "00ac4c35",
   "metadata": {},
   "outputs": [],
   "source": [
    "# looking at the amount of beer per state\n",
    "df.state.value_counts()"
   ]
  },
  {
   "cell_type": "code",
   "execution_count": null,
   "id": "72a63acb",
   "metadata": {},
   "outputs": [],
   "source": [
    "# trying out a .plot() on the states\n",
    "df.state.value_counts().plot()"
   ]
  },
  {
   "cell_type": "code",
   "execution_count": null,
   "id": "0b81cbeb",
   "metadata": {},
   "outputs": [],
   "source": [
    "state_df = df.state.value_counts().rename_axis('states').reset_index(name='breweries')\n",
    "state_df.head(5)"
   ]
  },
  {
   "cell_type": "code",
   "execution_count": null,
   "id": "000617e2",
   "metadata": {},
   "outputs": [],
   "source": [
    "# Visualization\n",
    "\n",
    "fig, axes = plt.subplots(1,2, sharey=True, figsize=(10,5))\n",
    "sns.set_theme(style=\"whitegrid\")\n",
    "fig.suptitle('Top 10 States and Bottom 10 States')\n",
    "\n",
    "# Top 10 States\n",
    "sns.barplot(ax=axes[0], x=\"breweries\", y=\"states\", data=state_df.head(10))\n",
    "axes[0].set_title(\"Brewery Lovers\")\n",
    "\n",
    "# Bottom 10 States\n",
    "sns.barplot(ax=axes[1], x=\"states\", y=\"breweries\", data=state_df.tail(10))\n",
    "axes[1].set_title(\"Brewery Haters\")"
   ]
  },
  {
   "cell_type": "code",
   "execution_count": null,
   "id": "263b19c0",
   "metadata": {},
   "outputs": [],
   "source": [
    "# Bottom 10 States\n",
    "fig, axes = plt.subplots(1, sharey=True, figsize=(10,5))\n",
    "sns.set_theme(style=\"whitegrid\")\n",
    "\n",
    "sns.barplot(ax=axes[0], x=\"states\", y=\"breweries\", data=state_df.tail(10))\n",
    "axes[1].set_title(\"Brewery Haters\")"
   ]
  },
  {
   "cell_type": "code",
   "execution_count": null,
   "id": "b9b797e8",
   "metadata": {},
   "outputs": [],
   "source": [
    "df.head()"
   ]
  },
  {
   "cell_type": "code",
   "execution_count": null,
   "id": "2120368f",
   "metadata": {},
   "outputs": [],
   "source": [
    "top_beer = df.beer_style.value_counts().rename_axis('beer_type').reset_index(name='total')\n",
    "top_beer.head()"
   ]
  },
  {
   "cell_type": "code",
   "execution_count": null,
   "id": "aaf76b99",
   "metadata": {},
   "outputs": [],
   "source": [
    "sns.barplot(x='total', y='beer_type', data=top_beer.head(10))\n",
    "plt.title('Top Flight Beers')\n"
   ]
  },
  {
   "cell_type": "code",
   "execution_count": null,
   "id": "684df56a",
   "metadata": {},
   "outputs": [],
   "source": [
    "top10_beers = top_beer.head(10)\n",
    "\n",
    "fig = plt.figure()\n",
    "ax = fig.add_axes([0,0,1,1])\n",
    "ax.axis('equal')\n",
    "labels = top10_beers['beer_type']\n",
    "totals = top10_beers['total']\n",
    "ax.pie(totals, labels = labels, autopct='%1.2f%%')\n",
    "plt.title('Percent of Top 10 Beers Consumed')\n",
    "plt.show()"
   ]
  },
  {
   "cell_type": "code",
   "execution_count": null,
   "id": "370ce784",
   "metadata": {},
   "outputs": [],
   "source": [
    "# making a function\n",
    "\n",
    "def beer_df():\n",
    "    '''\n",
    "    This function takes in the beer data and brewery data \n",
    "    and merges into one dataframe \n",
    "    and renames the columns for readbility\n",
    "    and saves the new dataframe as a csv\n",
    "    '''\n",
    "    # getting the beers data\n",
    "    df = pd.read_csv('beers.csv')\n",
    "    # getting the breweries data\n",
    "    df_1 = pd.read_csv('breweries.csv')\n",
    "    # merging the two csv files together\n",
    "    df = pd.merge(df, df_1, \n",
    "                   on='Unnamed: 0', \n",
    "                   how='inner')\n",
    "    # renaming columns for readability\n",
    "    df = df.rename(columns = {\"style\": \"beer_style\", \"name_y\": \"brewery\", \"Unnamed: 0\": \"number\", \"name_x\": \"beer\"})\n",
    "    # dropping columns that are not needed\n",
    "    df.drop(['id'], axis=1, inplace=True)\n",
    "    df.drop(['brewery_id'], axis=1, inplace=True)\n",
    "    # creating average and mean to fill null values\n",
    "    avg_abv = 0.05\n",
    "    ibu_mean = df.ibu.mean()\n",
    "    # filling null values in the beer data\n",
    "    df.fillna({'abv' :avg_abv, 'ibu' :ibu_mean}, inplace=True)\n",
    "    # saving the beer data to a csv file\n",
    "    df.to_csv('beer_data.csv')\n",
    "    \n",
    "    return df"
   ]
  },
  {
   "cell_type": "code",
   "execution_count": null,
   "id": "7d307f81",
   "metadata": {},
   "outputs": [],
   "source": [
    "# using my beer_df function\n",
    "df = beer_df()\n",
    "df.head() # check_yo_head"
   ]
  },
  {
   "cell_type": "code",
   "execution_count": null,
   "id": "dc773578",
   "metadata": {},
   "outputs": [],
   "source": [
    "# states function\n",
    "\n",
    "def beer_states():\n",
    "    '''\n",
    "    This function will take the count of each state in the data and \n",
    "    make a new dataframe with the states and number of breweries\n",
    "    '''\n",
    "    df = beer_df()\n",
    "    \n",
    "    state_df = df.state.value_counts().rename_axis('states').reset_index(name='breweries')\n",
    "    \n",
    "    return state_df"
   ]
  },
  {
   "cell_type": "code",
   "execution_count": null,
   "id": "1ddfc7d1",
   "metadata": {},
   "outputs": [],
   "source": [
    "beer_states()"
   ]
  },
  {
   "cell_type": "code",
   "execution_count": null,
   "id": "6fcae5e6",
   "metadata": {},
   "outputs": [],
   "source": [
    "# top beers function\n",
    "\n",
    "def top_beers():\n",
    "    '''\n",
    "    This function will take the count of each beer type in the data and \n",
    "    make a new dataframe with the beer type and total number\n",
    "    '''\n",
    "    df = beer_df()\n",
    "    \n",
    "    top_beer = df.beer_style.value_counts().rename_axis('beer_type').reset_index(name='total')\n",
    "    \n",
    "    return top_beer"
   ]
  },
  {
   "cell_type": "code",
   "execution_count": null,
   "id": "53748480",
   "metadata": {},
   "outputs": [],
   "source": [
    "top_beers().head()"
   ]
  },
  {
   "cell_type": "code",
   "execution_count": null,
   "id": "b7f56808",
   "metadata": {},
   "outputs": [],
   "source": [
    "df.head()"
   ]
  },
  {
   "cell_type": "code",
   "execution_count": null,
   "id": "93661ed6",
   "metadata": {},
   "outputs": [],
   "source": [
    "# plotting a bar graph for the number of breweries in each state\n",
    "plot = df.state.value_counts().plot(kind='bar', title=\"Number of Breweries in Each State\", \\\n",
    "                             figsize=(8,6), colormap='winter')\n",
    "plot.set_xlabel('State')\n",
    "plot.set_ylabel('Number of Breweries')\n",
    "mean_line = plot.axhline(df.state.value_counts().mean(), color='r',\\\n",
    "                         label='Average Number of Breweries')\n",
    "plt.legend()\n",
    "\n",
    "\n",
    "#plotting a bar graph fro the cities with the most breweries\n",
    "plot5 = df.groupby('city')['beer_style'].count().nlargest(15).plot(kind='bar', \\\n",
    "               title='Cities with the Most Breweries', \\\n",
    "               colormap='winter',  )\n",
    "plot5.set_ylabel('Number of Breweries')"
   ]
  },
  {
   "cell_type": "code",
   "execution_count": null,
   "id": "dcb812f4",
   "metadata": {},
   "outputs": [],
   "source": [
    "# ignore warnings\n",
    "import warnings\n",
    "warnings.filterwarnings(\"ignore\")\n",
    "\n",
    "import pandas as pd\n",
    "import numpy as np\n",
    "\n",
    "%matplotlib inline\n",
    "import matplotlib.pyplot as plt\n",
    "import seaborn as sns\n",
    "\n",
    "from sklearn.model_selection import train_test_split\n",
    "from sklearn.neighbors import KNeighborsClassifier\n",
    "from sklearn.metrics import classification_report\n",
    "from sklearn.metrics import confusion_matrix"
   ]
  },
  {
   "cell_type": "code",
   "execution_count": null,
   "id": "f6779cff",
   "metadata": {},
   "outputs": [],
   "source": [
    "df.head()"
   ]
  },
  {
   "cell_type": "code",
   "execution_count": null,
   "id": "947d7191",
   "metadata": {},
   "outputs": [],
   "source": [
    "df.drop(['id'], axis=1, inplace=True)\n",
    "df.drop(['brewery_id'], axis=1, inplace=True)\n",
    "\n",
    "avg_abv = 0.05\n",
    "ibu_mean = df.ibu.mean()\n",
    "\n",
    "df.fillna({'abv' :avg_abv, 'ibu' :ibu_mean}, inplace=True)"
   ]
  },
  {
   "cell_type": "code",
   "execution_count": null,
   "id": "28f268de",
   "metadata": {},
   "outputs": [],
   "source": [
    "df.head()"
   ]
  },
  {
   "cell_type": "code",
   "execution_count": null,
   "id": "02abb668",
   "metadata": {},
   "outputs": [],
   "source": []
  }
 ],
 "metadata": {
  "kernelspec": {
   "display_name": "Python 3",
   "language": "python",
   "name": "python3"
  },
  "language_info": {
   "codemirror_mode": {
    "name": "ipython",
    "version": 3
   },
   "file_extension": ".py",
   "mimetype": "text/x-python",
   "name": "python",
   "nbconvert_exporter": "python",
   "pygments_lexer": "ipython3",
   "version": "3.8.8"
  }
 },
 "nbformat": 4,
 "nbformat_minor": 5
}
